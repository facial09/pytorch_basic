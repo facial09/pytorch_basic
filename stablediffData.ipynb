{
  "nbformat": 4,
  "nbformat_minor": 0,
  "metadata": {
    "colab": {
      "provenance": [],
      "authorship_tag": "ABX9TyMQIOIXlcvzDeMfeNS9xlmZ",
      "include_colab_link": true
    },
    "kernelspec": {
      "name": "python3",
      "display_name": "Python 3"
    },
    "language_info": {
      "name": "python"
    }
  },
  "cells": [
    {
      "cell_type": "markdown",
      "metadata": {
        "id": "view-in-github",
        "colab_type": "text"
      },
      "source": [
        "<a href=\"https://colab.research.google.com/github/facial09/pytorch_basic/blob/main/stablediffData.ipynb\" target=\"_parent\"><img src=\"https://colab.research.google.com/assets/colab-badge.svg\" alt=\"Open In Colab\"/></a>"
      ]
    },
    {
      "cell_type": "code",
      "source": [
        "pip install einops"
      ],
      "metadata": {
        "colab": {
          "base_uri": "https://localhost:8080/"
        },
        "id": "vD7mvHHuqQQ8",
        "outputId": "ec485c04-eace-413e-9c99-4ab37eb2614d"
      },
      "execution_count": 1,
      "outputs": [
        {
          "output_type": "stream",
          "name": "stdout",
          "text": [
            "Looking in indexes: https://pypi.org/simple, https://us-python.pkg.dev/colab-wheels/public/simple/\n",
            "Collecting einops\n",
            "  Downloading einops-0.6.1-py3-none-any.whl (42 kB)\n",
            "\u001b[2K     \u001b[90m━━━━━━━━━━━━━━━━━━━━━━━━━━━━━━━━━━━━━━━━\u001b[0m \u001b[32m42.2/42.2 kB\u001b[0m \u001b[31m1.7 MB/s\u001b[0m eta \u001b[36m0:00:00\u001b[0m\n",
            "\u001b[?25hInstalling collected packages: einops\n",
            "Successfully installed einops-0.6.1\n"
          ]
        }
      ]
    },
    {
      "cell_type": "code",
      "source": [
        "import torch\n",
        "import torch.nn as nn\n",
        "import torch.nn.functional as F\n",
        "from torch import Tensor\n",
        "from einops import rearrange, reduce, repeat\n",
        "from einops.layers.torch import Rearrange, Reduce\n",
        "import torchsummary"
      ],
      "metadata": {
        "id": "gaA8nzgd9PBP"
      },
      "execution_count": 25,
      "outputs": []
    },
    {
      "cell_type": "code",
      "source": [
        "class Stem(nn.Module):\n",
        "\n",
        "  def __init__(self, img_size : int = 32, patch_size : int = 4, in_channels : int = 3, emb_size : int = 48):\n",
        "    super().__init__()\n",
        "    self.proj = nn.Sequential(\n",
        "        nn.Conv2d(in_channels, emb_size, kernel_size = patch_size, stride = patch_size),\n",
        "        Rearrange('b e (h) (w) -> b (h w) e')\n",
        "    )\n",
        "    # self.cls_token = nn.Parameter(torch.randn(1, 1, emb_size))\n",
        "    self.positions = nn.Parameter(torch.randn((img_size // patch_size) ** 2 , emb_size))\n",
        "    self.linear = nn.Linear(emb_size, emb_size * 2)\n",
        "\n",
        "  def forward(self, x):\n",
        "    \n",
        "    x = self.proj(x)\n",
        "    # cls_token = repeat(self.cls_token, '() n e -> b n e', b = b)\n",
        "    # x = torch.cat([cls_token, x], dim = 1)\n",
        "    x += self.positions\n",
        "    x = self.linear(x)\n",
        "    return x"
      ],
      "metadata": {
        "id": "Kb0oVjgjmc32"
      },
      "execution_count": 26,
      "outputs": []
    },
    {
      "cell_type": "code",
      "source": [
        "x = torch.randn(128, 3, 32, 32)\n",
        "stem = Stem()\n",
        "stem(x).shape"
      ],
      "metadata": {
        "colab": {
          "base_uri": "https://localhost:8080/"
        },
        "id": "baWXkDSTqW2N",
        "outputId": "0feacefc-ac37-4933-ca41-7a4c708710b5"
      },
      "execution_count": 27,
      "outputs": [
        {
          "output_type": "execute_result",
          "data": {
            "text/plain": [
              "torch.Size([128, 64, 96])"
            ]
          },
          "metadata": {},
          "execution_count": 27
        }
      ]
    },
    {
      "cell_type": "code",
      "source": [
        "class MultiheadAttention(nn.Module):\n",
        "\n",
        "  def __init__(self, emb_size , num_heads : int = 8, dropout : float = 0.):\n",
        "    super().__init__()\n",
        "    self.emb_size = emb_size\n",
        "    self.num_heads = num_heads\n",
        "\n",
        "    self.qkv = nn.Linear(emb_size, emb_size * 3)\n",
        "    self.att_drop = nn.Dropout(dropout)\n",
        "    self.projection = nn.Linear(emb_size, emb_size)\n",
        "\n",
        "  def forward(self, x : Tensor, mask: Tensor = None) -> Tensor:\n",
        "      # split keys, queries and values in num_heads\n",
        "      qkv = rearrange(self.qkv(x), \"b n (h d qkv) -> (qkv) b h n d\", h=self.num_heads, qkv=3)\n",
        "      queries, keys, values = qkv[0], qkv[1], qkv[2]\n",
        "      # sum up over the last axis\n",
        "      energy = torch.einsum('bhqd, bhkd -> bhqk', queries, keys) # batch, num_heads, query_len, key_len\n",
        "      if mask is not None:\n",
        "          fill_value = torch.finfo(torch.float32).min\n",
        "          energy.mask_fill(~mask, fill_value)\n",
        "          \n",
        "      scaling = self.emb_size ** (1/2)\n",
        "      att = F.softmax(energy, dim=-1) / scaling\n",
        "      att = self.att_drop(att)\n",
        "      # sum up over the third axis\n",
        "      out = torch.einsum('bhal, bhlv -> bhav ', att, values)\n",
        "      out = rearrange(out, \"b h n d -> b n (h d)\")\n",
        "      out = self.projection(out)\n",
        "      return out\n",
        "\n"
      ],
      "metadata": {
        "id": "vDsed0LcC0V7"
      },
      "execution_count": 31,
      "outputs": []
    },
    {
      "cell_type": "code",
      "source": [
        "class Block(nn.Module):\n",
        "\n",
        "  def __init__(self, dim, expansion_ratio : int = 2, num_heads = 8):\n",
        "    super().__init__()\n",
        "    self.token_mixer = nn.Sequential(\n",
        "        nn.LayerNorm(dim),\n",
        "        MultiheadAttention(dim, num_heads = num_heads),\n",
        "    )\n",
        "    self.channel_mixer = nn. Sequential(\n",
        "        nn.LayerNorm(dim),\n",
        "        nn.Linear(dim, dim * expansion_ratio),\n",
        "        nn.SiLU(),\n",
        "        nn.Linear(dim * expansion_ratio, dim),\n",
        "    )\n",
        "\n",
        "  def forward(self, x):\n",
        "    x = x + self.token_mixer(x)\n",
        "    x = x + self.channel_mixer(x)\n",
        "\n",
        "    return x"
      ],
      "metadata": {
        "id": "Fc3xPBVbfhze"
      },
      "execution_count": 32,
      "outputs": []
    },
    {
      "cell_type": "code",
      "source": [
        "x = torch.randn(128, 3, 32, 32)\n",
        "stem = Stem()\n",
        "stem_output = stem(x)\n",
        "stem_output.shape\n",
        "block = Block(96)\n",
        "block(stem_output).shape"
      ],
      "metadata": {
        "colab": {
          "base_uri": "https://localhost:8080/"
        },
        "id": "Kc9xpIgovNwb",
        "outputId": "5d2517ee-de3a-4da2-d839-c291660823cd"
      },
      "execution_count": 33,
      "outputs": [
        {
          "output_type": "execute_result",
          "data": {
            "text/plain": [
              "torch.Size([128, 64, 96])"
            ]
          },
          "metadata": {},
          "execution_count": 33
        }
      ]
    },
    {
      "cell_type": "code",
      "source": [
        "class VisionTransformer(nn.Module):\n",
        "    def __init__(self, image_size, patch_size, num_classes, dim, depth, heads, mlp_ratio):\n",
        "        super().__init__()\n",
        "        assert image_size % patch_size == 0, \"Image dimensions must be divisible by the patch size.\"\n",
        "        num_patches = (image_size // patch_size) ** 2\n",
        "        patch_dim = 3 * patch_size ** 2\n",
        "\n",
        "        self.patch_size = patch_size\n",
        "        self.pos_embedding = nn.Parameter(torch.zeros(1, num_patches + 1, dim))\n",
        "        self.patch_to_embedding = nn.Linear(patch_dim, dim)\n",
        "        self.cls_token = nn.Parameter(torch.zeros(1, 1, dim))\n",
        "        self.transformer = nn.ModuleList([\n",
        "            EncoderBlock(dim=dim, num_heads=heads[0], mlp_ratio=mlp_ratio[0]) for _ in range(depth[0])\n",
        "        ])\n",
        "        self.transformer.extend([\n",
        "            EncoderBlock(dim=dim, num_heads=heads[1], mlp_ratio=mlp_ratio[1]) for _ in range(depth[1])\n",
        "        ])\n",
        "        self.transformer.extend([\n",
        "            EncoderBlock(dim=dim, num_heads=heads[2], mlp_ratio=mlp_ratio[2]) for _ in range(depth[2])\n",
        "        ])\n",
        "        self.layer_norm = nn.LayerNorm(dim)\n",
        "        self.fc = nn.Linear(dim, num_classes)\n",
        "\n",
        "    def forward(self, x):\n",
        "        x = nn.functional.pad(x, pad=(self.patch_size // 2, self.patch_size // 2,\n",
        "                                      self.patch_size // 2, self.patch_size // 2), mode='reflect')\n",
        "        x = Rearrange('b c (h p1) (w p2) -> b (h w) (p1 p2 c)', p1=self.patch_size, p2=self.patch_size)(x)\n",
        "        x = self.patch_to_embedding(x)\n",
        "        cls_tokens = self.cls_token.expand(x.shape[0], -1, -1)\n",
        "        x = torch.cat((cls_tokens, x), dim=1)\n",
        "        x = x + self.pos_embedding\n",
        "        x = nn.functional.dropout(x, p=0."
      ],
      "metadata": {
        "id": "boEh2cRrm2gZ"
      },
      "execution_count": null,
      "outputs": []
    },
    {
      "cell_type": "code",
      "source": [],
      "metadata": {
        "id": "M2TVremXNnom"
      },
      "execution_count": null,
      "outputs": []
    },
    {
      "cell_type": "code",
      "source": [],
      "metadata": {
        "id": "NGzJugUMMcyT"
      },
      "execution_count": null,
      "outputs": []
    }
  ]
}